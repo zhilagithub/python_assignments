{
  "cells": [
    {
      "cell_type": "markdown",
      "source": [
        "## CIND830 - Python Programming for Data Science  \n",
        "### Assignment 1 (15% of the final grade) \n",
        "### Due on June 6, 2023 11:59 PM "
      ],
      "metadata": {
        "id": "kJ6ssXaGJfGN"
      }
    },
    {
      "cell_type": "markdown",
      "source": [
        "*****\n",
        "This is a Jupyter Notebook document that extends a simple formatting syntax for authoring HTML and PDF. Review [this](https://jupyter-notebook.readthedocs.io/en/stable/notebook.html) website for more details on using Jupyter Notebooks.\n",
        "\n",
        "Consider using a Jupyter Notebook platform to complete this assignment. Ensure using **Python 3.7 release or higher** then complete the assignment by inserting your Python code wherever seeing the string `#INSERT YOUR ANSWER HERE.`\n",
        "\n",
        "You are expected to submit the notebook file (in IPYNB format) and the exported version (either in PDF or HTML) in the same Assignment link in D2L. Use [these](https://www.ryerson.ca/courses/students/tutorials/assignments/) guidelines to submit **both** the IPYNB and the exported file (HTML or PDF). Failing to submit both files will be subject to mark deduction.\n",
        "\n",
        "Please be advised that you cannot get more than 100% in this assignment, and the **BONUS** question (if there is any) will only be graded if all other questions have been submitted."
      ],
      "metadata": {
        "id": "UWjXw7DsJfGP"
      }
    },
    {
      "cell_type": "markdown",
      "source": [
        "*****\n",
        "Coverage: <br>\n",
        "1. Data Types and Expressions <br>\n",
        "2. Repetition Statements <br>\n",
        "3. Selection Statements <br>\n",
        "4. Strings, Lists and Text Files <br>\n",
        "*****"
      ],
      "metadata": {
        "id": "EAq5nq7shwbI"
      }
    },
    {
      "cell_type": "markdown",
      "source": [
        "\n",
        "\n",
        "### Question 1  **[30 pts]**:"
      ],
      "metadata": {
        "id": "tim9-gxMr7jW"
      }
    },
    {
      "cell_type": "markdown",
      "source": [
        "A multi-valued function has been defined as follows\n",
        "\n",
        "$$\n",
        "f(x) = \\left\\{\n",
        "    \\begin{array}\\\\\n",
        "       ({\\frac{x^2}{|x|+2}})^2 & \\mbox{if} \\ x < 5 \\\\\n",
        "        {\\frac{x^2}{|x|+2}} & \\mbox{if} \\ x = 5 \\\\\n",
        "       \\sqrt{\\frac{x^2}{|x|+2} } & \\mbox{if} \\ x > 5 \n",
        "    \\end{array}\n",
        "\\right.\n",
        "$$\n",
        "\n",
        "\n",
        " \n",
        "<br>\n",
        "\n",
        "**a)** **[10 pts]** Write a program to ask the user to enter a floating-point real number, check whether the number is greater, equal or less than 5, then print the output according to the definition of the multi-valued function.\n",
        "\n",
        "For example, if the user enters `x = -57.8`, then the output should be:<br>\n",
        "`The value of f(x) is 3121.1093571660267`\n",
        "\n",
        "Hint: Use the `math` module as it provides access to some of the essential mathematical functions."
      ],
      "metadata": {
        "id": "RKFFvZ6Rr7-_"
      }
    },
    {
      "cell_type": "code",
      "source": [
        "#INSERT YOUR ANSWER HERE\n"
      ],
      "metadata": {
        "id": "Zvr96FRXsDKJ"
      },
      "execution_count": null,
      "outputs": []
    },
    {
      "cell_type": "markdown",
      "source": [
        "**b)**  **[10 pts]** Round the output of Q1.a to the nearest ineteger, convert that integer to a list of digits, then print the result.  \n",
        "\n",
        "For example, if the user enters `x = -57.8`, then the output should be: <br>\n",
        "`The value of f(x) is  3121.1093571660267`<br>\n",
        "`The list of digits is  [3, 1, 2, 1] `"
      ],
      "metadata": {
        "id": "Ac3_bcvTsGxP"
      }
    },
    {
      "cell_type": "code",
      "source": [
        "#INSERT YOUR ANSWER HERE\n"
      ],
      "metadata": {
        "id": "TpNNysA5sJKa"
      },
      "execution_count": null,
      "outputs": []
    },
    {
      "cell_type": "markdown",
      "source": [
        "**c)**  **[10 pts]** Write code to accept an integer number and reverse its digits. For example, if the user enters 86421, the output should be 12468."
      ],
      "metadata": {
        "id": "aS_u4TFwsLcb"
      }
    },
    {
      "cell_type": "code",
      "source": [
        "user_input = int(input(\"Enter an integer number: \"))\n",
        "#INSERT YOUR ANSWER HERE\n"
      ],
      "metadata": {
        "id": "3loQP8ZTsK1h"
      },
      "execution_count": null,
      "outputs": []
    },
    {
      "cell_type": "markdown",
      "source": [
        "**BONUS  [10 pts]**  Write a code to display the [running total](https://en.wikipedia.org/wiki/Running_total) of a sequence of numbers. For example, if the user enters `2,3,4,6,10`, the output should be `2 5 9 15 25`"
      ],
      "metadata": {
        "id": "1Ikg6MNLPwzP"
      }
    },
    {
      "cell_type": "code",
      "source": [
        "#INSERT YOUR ANSWER HERE\n"
      ],
      "metadata": {
        "id": "lVjl0vA-QGCN"
      },
      "execution_count": null,
      "outputs": []
    },
    {
      "cell_type": "markdown",
      "source": [
        "*****\n"
      ],
      "metadata": {
        "id": "jPrZqSxgSWNr"
      }
    },
    {
      "cell_type": "markdown",
      "source": [
        "### Question 2  **[30 pts]**:"
      ],
      "metadata": {
        "id": "zj6KzolQArWq"
      }
    },
    {
      "cell_type": "markdown",
      "source": [
        "\n",
        "**a)**  **[10 pts]** Write a code that creates a set of passwords, based on a list of enetered country names.  Each password should be a combination of: \n",
        "- The first three letters of the country name\n",
        "- The country capital with no whitespaces\n",
        "- The country currency in uppercase\n",
        "- The country population in the scientific notation format\n",
        "\n",
        "For example, if the user enters 'Canada,Egypt,India,Turkey', then the code should generate the following list:\n",
        "\n",
        "| Password |\n",
        "|:-:|\n",
        "| CanOttawaCAD3.55e+07  |\n",
        "| EgyCairoEGP8.77e+07  |\n",
        "| IndNewDelhiINR1.26e+09  |\n",
        "| TurAnkaraTRY7.67e+07 |\n",
        "\n",
        "Hint:  You can use the [countryinfo] (https://pypi.org/project/countryinfo/) library to generate the required information of the entered countries."
      ],
      "metadata": {
        "id": "tv0MwrQuAbXe"
      }
    },
    {
      "cell_type": "code",
      "source": [
        "#INSERT YOUR ANSWER HERE\n"
      ],
      "metadata": {
        "id": "i0iBB4l-CPxu"
      },
      "execution_count": null,
      "outputs": []
    },
    {
      "cell_type": "markdown",
      "source": [
        "**b)**  **[10 pts]** Count the letters of each generated password in Q2.a, then print the password along with its number of characters.\n",
        "\n",
        "\n",
        "For example, if the user generated the following passwords, then the output should be as follows:\n",
        "\n",
        "| Password | Length |\n",
        "|:-:|:-:|\n",
        "| CanOttawaCAD3.55e+07  | 20|\n",
        "| EgyCairoEGP8.77e+07  | 19|\n",
        "| IndNewDelhiINR1.26e+09  | 22|\n",
        "| TurAnkaraTRY7.67e+07 | 20|\n",
        "\n"
      ],
      "metadata": {
        "id": "PLYxCTBNDTzl"
      }
    },
    {
      "cell_type": "code",
      "source": [
        "#INSERT YOUR ANSWER HERE\n"
      ],
      "metadata": {
        "id": "7eSWF7eMFEYv"
      },
      "execution_count": null,
      "outputs": []
    },
    {
      "cell_type": "markdown",
      "source": [
        "**c)**  **[10 pts]** Write a code to print only the passwords with more than 19 characters and include either the letter 'D', the digit '9', or the punctuation symbol '-'.\n",
        "\n",
        "For example, the code should filter the generated passwords listed in 2.a, and print the following output:\n",
        "\n",
        "| Password | \n",
        "|:-|\n",
        "| CanOttawaCAD3.55e+07  |\n",
        "| IndNewDelhiINR1.26e+09 | "
      ],
      "metadata": {
        "id": "2P998IaeFcFz"
      }
    },
    {
      "cell_type": "code",
      "source": [
        "#INSERT YOUR ANSWER HERE\n"
      ],
      "metadata": {
        "id": "Zrnys0c-FbCH"
      },
      "execution_count": null,
      "outputs": []
    },
    {
      "cell_type": "markdown",
      "source": [
        "*****"
      ],
      "metadata": {
        "id": "YTfZ02bk8dtL"
      }
    },
    {
      "cell_type": "markdown",
      "source": [
        "### Question 3  **[40 pts]**:\n",
        "\n",
        "The following text is an example of a [fake payment receipt](https://it.umn.edu/scam-examples-security-advisories/example-248-fake-payment-receipts), scammers use to encourage recipients to engage.\n",
        "```\n",
        "From: robert lor <robert6388lor@gmail.com>\n",
        "Subject: PAYMENT DONE______________NYR7755269R\n",
        "Date: September 9, 2021 at 10:31:42 AM CDT\n",
        "To: consumer233@gmail.com\n",
        "\n",
        "___OUR valued consumer___\n",
        "\n",
        "thank you for your purchase through NORTON . this email that is to inform you your annual subscription with Norton is RENEWED .\n",
        "\n",
        "Here is an overview of your recent purchase :-\n",
        "\n",
        "PRODUCT INFO\n",
        "invoice no :- NYR7755269R\n",
        "ORDER date :- 09/09/2021\n",
        "PAYMENT method : - auto – debited\n",
        "\n",
        "VALUE :- $321.67\n",
        "\n",
        "to upgrade /cancel your subscription , PLEASE contact our customer service at\n",
        "+1 (810)-(515)-(7954)\n",
        "\n",
        "Thank you,\n",
        "Norton billing support\n",
        "```"
      ],
      "metadata": {
        "id": "ovZoFqDk8f1U"
      }
    },
    {
      "cell_type": "markdown",
      "source": [
        "**a)**  **[10 pts]** Save the text to a file called `emailSpam.txt`, then compute and display the total number of lines: `23` and words: `91`."
      ],
      "metadata": {
        "id": "fn-Eedid9kXP"
      }
    },
    {
      "cell_type": "code",
      "source": [
        "#INSERT YOUR ANSWER HERE\n"
      ],
      "metadata": {
        "id": "wbs7j8uT-IE6"
      },
      "execution_count": null,
      "outputs": []
    },
    {
      "cell_type": "markdown",
      "source": [
        "**b) [10 pts]** Find and display the email subject and the number of the upper and lower cases in the subject text."
      ],
      "metadata": {
        "id": "Sc6SRAuU_vUn"
      }
    },
    {
      "cell_type": "code",
      "source": [
        "#INSERT YOUR ANSWER HERE\n"
      ],
      "metadata": {
        "id": "53jWhgY7ATNC"
      },
      "execution_count": null,
      "outputs": []
    },
    {
      "cell_type": "markdown",
      "source": [
        "**c) [10 pts]** Define a list that consists of 10 different email spam trigger words, such as `RENEWED` or `purchase`, then check whether any of these words exist in the body of the email. If the email contains a spam word, print it; otherwise, return a message that the email does not include any predefined spam words."
      ],
      "metadata": {
        "id": "8mjeEnRnGXl8"
      }
    },
    {
      "cell_type": "code",
      "source": [
        "#INSERT YOUR ANSWER HERE\n"
      ],
      "metadata": {
        "id": "nY9UMXd_GpY5"
      },
      "execution_count": null,
      "outputs": []
    },
    {
      "cell_type": "markdown",
      "source": [
        "**d) [10 pts]** Find and display the percentage of spam words found in the body of the email using the list of spam trigger words from part c."
      ],
      "metadata": {
        "id": "ns3ys_JXWA5U"
      }
    },
    {
      "cell_type": "code",
      "source": [
        "#INSERT YOUR ANSWER HERE\n"
      ],
      "metadata": {
        "id": "1T66UD5SWVk-"
      },
      "execution_count": null,
      "outputs": []
    },
    {
      "cell_type": "markdown",
      "source": [
        "#### This is the end of assignment 1"
      ],
      "metadata": {
        "id": "MS4zegKigy6u"
      }
    }
  ],
  "metadata": {
    "colab": {
      "provenance": []
    },
    "kernelspec": {
      "display_name": "Python 3",
      "language": "python",
      "name": "python3"
    },
    "language_info": {
      "name": "python",
      "version": "3.8.5",
      "mimetype": "text/x-python",
      "codemirror_mode": {
        "name": "ipython",
        "version": 3
      },
      "pygments_lexer": "ipython3",
      "nbconvert_exporter": "python",
      "file_extension": ".py"
    },
    "nteract": {
      "version": "0.28.0"
    },
    "varInspector": {
      "cols": {
        "lenName": 16,
        "lenType": 16,
        "lenVar": 40
      },
      "kernels_config": {
        "python": {
          "delete_cmd_postfix": "",
          "delete_cmd_prefix": "del ",
          "library": "var_list.py",
          "varRefreshCmd": "print(var_dic_list())"
        },
        "r": {
          "delete_cmd_postfix": ") ",
          "delete_cmd_prefix": "rm(",
          "library": "var_list.r",
          "varRefreshCmd": "cat(var_dic_list()) "
        }
      },
      "types_to_exclude": [
        "module",
        "function",
        "builtin_function_or_method",
        "instance",
        "_Feature"
      ],
      "window_display": false
    }
  },
  "nbformat": 4,
  "nbformat_minor": 0
}