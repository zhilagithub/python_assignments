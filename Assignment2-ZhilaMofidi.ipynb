{
 "cells": [
  {
   "cell_type": "markdown",
   "metadata": {
    "id": "kJ6ssXaGJfGN"
   },
   "source": [
    "## CIND830 - Python Programming for Data Science  \n",
    "### Assignment 2 (15% of the final grade) \n",
    "### Due on Dec 12, 2022 11:59 PM "
   ]
  },
  {
   "cell_type": "markdown",
   "metadata": {
    "id": "UWjXw7DsJfGP"
   },
   "source": [
    "*****\n",
    "This is a Jupyter Notebook document that extends a simple formatting syntax for authoring HTML and PDF. Review [this](https://jupyter-notebook.readthedocs.io/en/stable/notebook.html) website for more details on using Jupyter Notebooks.\n",
    "\n",
    "Consider using a Jupyter Notebook platform to complete this assignment. Ensure using **Python 3.7 release or higher** then complete the assignment by inserting your Python code wherever seeing the string `#INSERT YOUR ANSWER HERE.`\n",
    "\n",
    "You are expected to submit the notebook file (in IPYNB format) and the exported version (either in PDF or HTML) in the same Assignment link in D2L. Use [these](https://www.ryerson.ca/courses/students/tutorials/assignments/) guidelines to submit **both** the IPYNB and the exported file (HTML or PDF). Failing to submit both files will be subject to mark deduction.\n",
    "\n",
    "Please be advised that you cannot get more than 100% in this assignment, and the **BONUS** question (if there is any) will only be graded if all other questions have been submitted."
   ]
  },
  {
   "cell_type": "markdown",
   "metadata": {
    "id": "EAq5nq7shwbI"
   },
   "source": [
    "*****\n",
    "Coverage:\n",
    "1. Lists, Tuples and Dictionaries\n",
    "2. Functions and Classes\n",
    "3. Searching and Sorting\n",
    "4. Arrays and Grids\n",
    "5. Stacks, Queues, and Lists\n",
    "*****"
   ]
  },
  {
   "cell_type": "markdown",
   "metadata": {
    "id": "5MUOVmchP8WV"
   },
   "source": [
    "### Question 1 **[30 pts]**: "
   ]
  },
  {
   "cell_type": "markdown",
   "metadata": {
    "id": "sUzE8TAvRCRm"
   },
   "source": [
    "[Pascal's triangle](https://en.wikipedia.org/wiki/Pascal%27s_triangle) is a triangular array that can be used to find combinations. Each number in the triangle is the sum of the two numbers above it. For example, the value 4 in row 4 is the sum of 1 and 3 in the row above. The first and last number in any row will always be 1."
   ]
  },
  {
   "cell_type": "markdown",
   "metadata": {
    "id": "17f1tuGrAA34"
   },
   "source": [
    "![pascals triangle_small.png](data:image/png;base64,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)"
   ]
  },
  {
   "cell_type": "markdown",
   "metadata": {
    "id": "EydpyapzA0aT"
   },
   "source": [
    "The value of a row and column in Pascal's Triangle can be calculated using the following formula:\n",
    "$$C(n, r) = \\frac{n!}{r! (n-r)!}$$\n",
    "where $n$ and $r$, are the row and column indices.\n",
    "\n",
    "For example, $C(4,2) = 6$ corresponds to row index 4 and column index 2."
   ]
  },
  {
   "cell_type": "markdown",
   "metadata": {
    "id": "_OVpXxAnDklK"
   },
   "source": [
    "**Question 1.a [10 pts]**: Design a function that takes the row id and column id as arguments and returns the corresponding value from Pascal's triangle. \n",
    "Hint: You can use the [math.factorial()](https://docs.python.org/3/library/math.html#math.factorial) function or design one to compute the factorials."
   ]
  },
  {
   "cell_type": "code",
   "execution_count": 5,
   "metadata": {},
   "outputs": [
    {
     "name": "stdout",
     "output_type": "stream",
     "text": [
      "6\n",
      "10\n",
      "1\n"
     ]
    }
   ],
   "source": [
    "## ANSWER HERE- Question 1.a\n",
    "\n",
    "import math\n",
    "\n",
    "def find_c(row, col):\n",
    "    if col < 0 or col > row:\n",
    "        return None\n",
    "\n",
    "    numerator = math.factorial(row)\n",
    "    denominator = math.factorial(col) * math.factorial(row - col)\n",
    "    coefficient = numerator // denominator\n",
    "\n",
    "    return coefficient\n",
    "print(find_c(4,2))\n",
    "print(find_c(5,3))\n",
    "print(find_c(10,0))"
   ]
  },
  {
   "cell_type": "markdown",
   "metadata": {
    "id": "8Cod3dqJEVAJ"
   },
   "source": [
    "**Question 1.b [10 pts]**: Design a function that takes an integer $n$ as input and displays the first $n$ rows of Pascal's triangle.  For example, if the user calls the function with 6 as an argument, the following output should be displayed.\n",
    "```\n",
    "       1 \n",
    "      1 1 \n",
    "     1 2 1 \n",
    "    1 3 3 1 \n",
    "   1 4 6 4 1 \n",
    "  1 5 10 10 5 1\n",
    "\n",
    "```\n",
    "\n",
    "\n",
    "**Hint**:  You can use the function you designed in part a to compute the triangle values."
   ]
  },
  {
   "cell_type": "code",
   "execution_count": 3,
   "metadata": {},
   "outputs": [
    {
     "name": "stdout",
     "output_type": "stream",
     "text": [
      "     1 \n",
      "    1 1 \n",
      "   1 2 1 \n",
      "  1 3 3 1 \n",
      " 1 4 6 4 1 \n",
      "1 5 10 10 5 1 \n"
     ]
    }
   ],
   "source": [
    "## ANSWER HERE- Question 1.b\n",
    "\n",
    "def print_pascal_triangle(n):\n",
    "    for i in range(n):\n",
    "        # Print spaces\n",
    "        for j in range(n - i - 1):\n",
    "            print(\" \", end=\"\")\n",
    "        \n",
    "        # Print numbers\n",
    "        num = 1\n",
    "        for j in range(i + 1):\n",
    "            print(num, end=\" \")\n",
    "            num = num * (i - j) // (j + 1)\n",
    "        \n",
    "        # Move to the next line\n",
    "        print()\n",
    "\n",
    "rows = 6\n",
    "print_pascal_triangle(rows)\n"
   ]
  },
  {
   "cell_type": "code",
   "execution_count": 4,
   "metadata": {
    "id": "hSeGrQAqE7qo"
   },
   "outputs": [
    {
     "name": "stdout",
     "output_type": "stream",
     "text": [
      "     1 \n",
      "    1 1 \n",
      "   1 2 1 \n",
      "  1 3 3 1 \n",
      " 1 4 6 4 1 \n",
      "1 5 10 10 5 1 \n"
     ]
    }
   ],
   "source": [
    "print_pascal_triangle(6)"
   ]
  },
  {
   "cell_type": "markdown",
   "metadata": {
    "id": "lcZrEegvlwGk"
   },
   "source": [
    "**Question 1.c [10 pts]**: Design a function that flips the Pascal triangle. For example, if the user calls the function with 6 as an argument, the output would be as follows.\n",
    "```\n",
    "1 5 10 10 5 1\n",
    "  1 4 6 4 1\n",
    "   1 3 3 1 \n",
    "    1 2 1 \n",
    "     1 1 \n",
    "      1 \n",
    "```\n",
    "**Hint**:  You can use the function you designed in part a to compute the triangle values."
   ]
  },
  {
   "cell_type": "code",
   "execution_count": 4,
   "metadata": {
    "id": "dM6fu-JwPCWn"
   },
   "outputs": [
    {
     "name": "stdout",
     "output_type": "stream",
     "text": [
      "1 5 10 10 5 1 \n",
      " 1 4 6 4 1 \n",
      "  1 3 3 1 \n",
      "   1 2 1 \n",
      "    1 1 \n",
      "     1 \n"
     ]
    }
   ],
   "source": [
    "## ANSWER HERE- Question 1.c\n",
    "\n",
    "### Using reversed function\n",
    "\n",
    "def print_flipped_pascal_triangle(n):\n",
    "    for i in reversed(range(n)):\n",
    "        # Print spaces\n",
    "        for j in range(n - i - 1):\n",
    "            print(\" \", end=\"\")\n",
    "        \n",
    "        # Print numbers\n",
    "        num = 1\n",
    "        for j in range(i + 1):\n",
    "            print(num, end=\" \")\n",
    "            num = num * (i - j) // (j + 1)\n",
    "        \n",
    "        # Move to the next line\n",
    "        print()\n",
    "\n",
    "rows = 6\n",
    "print_flipped_pascal_triangle(rows)"
   ]
  },
  {
   "cell_type": "code",
   "execution_count": 15,
   "metadata": {
    "id": "MiHZQnWZPLTA",
    "scrolled": false
   },
   "outputs": [
    {
     "name": "stdout",
     "output_type": "stream",
     "text": [
      "1 5 10 10 5 1 \n",
      " 1 4 6 4 1 \n",
      "  1 3 3 1 \n",
      "   1 2 1 \n",
      "    1 1 \n",
      "     1 \n"
     ]
    }
   ],
   "source": [
    "print_flipped_pascal_triangle(6)"
   ]
  },
  {
   "cell_type": "markdown",
   "metadata": {
    "id": "jPrZqSxgSWNr"
   },
   "source": [
    "*****\n"
   ]
  },
  {
   "cell_type": "markdown",
   "metadata": {
    "id": "ET_xPWH06XFD"
   },
   "source": [
    "### Question 2 **[30 pts]**: \n",
    "\n",
    "**E-commerce Store**\n",
    "\n",
    "Suppose you are building a simplified backend system for an e-commerce store. \n",
    "\n",
    "You are expected to define a number of classes and objects, then create the relevant test case functions to check your results.\n",
    "\n",
    "A sample test case function is given in ***Question 2.a***"
   ]
  },
  {
   "cell_type": "markdown",
   "metadata": {
    "id": "Ec10Lfo38NKM"
   },
   "source": [
    "**Question 2.a [10 pts]**: \n",
    "\n",
    "Define a class `Product` with attributes `name`, `price`, and `quantity`. \n",
    "\n",
    "The class should also have a method `update_quantity` that allows the quantity to be updated.\n",
    "\n",
    "You should add a test case to check your results.\n",
    "\n",
    "A sample test case function for this question should look like;\n",
    "\n",
    "```\n",
    "# Test Case for Question 1a\n",
    "def test_product():\n",
    "    p1 = Product(\"Apple\", 1.0, 100)\n",
    "    assert p1.name == \"Apple\"\n",
    "    assert p1.price == 1.0\n",
    "    assert p1.quantity == 100\n",
    "    print(vars(p1))\n",
    "\n",
    "    # Update quantity\n",
    "    p1.update_quantity(50)\n",
    "    assert p1.quantity == 150\n",
    "    print(vars(p1))\n",
    "\n",
    "    p1.update_quantity(-50)\n",
    "    assert p1.quantity == 100\n",
    "    print(vars(p1))\n",
    "\n",
    "    print(\"All test cases pass for Product\")\n",
    "test_product()\n",
    "\n",
    "```"
   ]
  },
  {
   "cell_type": "code",
   "execution_count": 5,
   "metadata": {
    "id": "D0xcUhpt9uv6"
   },
   "outputs": [
    {
     "name": "stdout",
     "output_type": "stream",
     "text": [
      "{'name': 'Apple', 'price': 1.0, 'quantity': 100}\n",
      "{'name': 'Apple', 'price': 1.0, 'quantity': 150}\n",
      "{'name': 'Apple', 'price': 1.0, 'quantity': 100}\n",
      "All test cases pass for Product\n"
     ]
    },
    {
     "data": {
      "text/plain": [
       "'\\n# Test Case for Question 1a\\ndef test_product():\\n    p1 = Product(\"Apple\", 1.0, 100)\\n    assert p1.name == \"Apple\"\\n    assert p1.price == 1.0\\n    assert p1.quantity == 100\\n    print(vars(p1))\\n\\n    # Update quantity\\n    p1.update_quantity(50)\\n    assert p1.quantity == 150\\n    print(vars(p1))\\n\\n    p1.update_quantity(-50)\\n    assert p1.quantity == 100\\n    print(vars(p1))\\n\\n    print(\"All test cases pass for Product\")\\ntest_product()\\n\\n'"
      ]
     },
     "execution_count": 5,
     "metadata": {},
     "output_type": "execute_result"
    }
   ],
   "source": [
    "## ANSWER HERE - Question 2.a \n",
    "class Product:\n",
    "    def __init__(self, name, price, quantity):\n",
    "        self.name = name\n",
    "        self.price = price\n",
    "        self.quantity = quantity\n",
    "\n",
    "    def update_quantity(self, new_quantity):\n",
    "        self.quantity += new_quantity\n",
    "\n",
    "# Test Case for Question 2.a\n",
    "def test_product():\n",
    "    p1 = Product(\"Apple\", 1.0, 100)\n",
    "    assert p1.name == \"Apple\"\n",
    "    assert p1.price == 1.0\n",
    "    assert p1.quantity == 100\n",
    "    print(vars(p1))\n",
    "\n",
    "    # Update quantity\n",
    "    p1.update_quantity(50)\n",
    "    assert p1.quantity == 150\n",
    "    print(vars(p1))\n",
    "\n",
    "    p1.update_quantity(-50)\n",
    "    assert p1.quantity == 100\n",
    "    print(vars(p1))\n",
    "\n",
    "    print(\"All test cases pass for Product\")\n",
    "\n",
    "# Run the test case\n",
    "test_product()\n",
    "\n",
    "\n",
    "\n",
    "\n",
    "'''\n",
    "# Test Case for Question 1a\n",
    "def test_product():\n",
    "    p1 = Product(\"Apple\", 1.0, 100)\n",
    "    assert p1.name == \"Apple\"\n",
    "    assert p1.price == 1.0\n",
    "    assert p1.quantity == 100\n",
    "    print(vars(p1))\n",
    "\n",
    "    # Update quantity\n",
    "    p1.update_quantity(50)\n",
    "    assert p1.quantity == 150\n",
    "    print(vars(p1))\n",
    "\n",
    "    p1.update_quantity(-50)\n",
    "    assert p1.quantity == 100\n",
    "    print(vars(p1))\n",
    "\n",
    "    print(\"All test cases pass for Product\")\n",
    "test_product()\n",
    "\n",
    "'''\n"
   ]
  },
  {
   "cell_type": "markdown",
   "metadata": {
    "id": "orFdARR6gPKd"
   },
   "source": [
    "**Question 2.b [10 pts]**:\n",
    "\n",
    "Create a class `Customer` with attributes `name` and `cart`. \n",
    "\n",
    "`cart` should be a dictionary with `Product` instances as keys and quantities as values. \n",
    "\n",
    "This class should have the following methods:\n",
    "- `add_to_cart(Product, quantity)`: this should add the product to the customer's cart, updating the quantity in the cart and the quantity of the product in the store.\n",
    "- `remove_from_cart(Product, quantity)`: this should remove the product from the customer's cart, updating the quantity in the cart and the quantity of the product in the store.\n",
    "- `checkout()`: this should calculate and return the total cost of all products in the cart."
   ]
  },
  {
   "cell_type": "code",
   "execution_count": 6,
   "metadata": {
    "id": "ImQYJFE4grlO"
   },
   "outputs": [
    {
     "name": "stdout",
     "output_type": "stream",
     "text": [
      "Total cost: 13.75\n",
      "All test cases pass for Customer\n"
     ]
    }
   ],
   "source": [
    "## ANSWER HERE - Question 2.b\n",
    "\n",
    "class Customer:\n",
    "    def __init__(self, name):\n",
    "        self.name = name\n",
    "        self.cart = {}\n",
    "\n",
    "    def add_to_cart(self, product, quantity):\n",
    "        if product in self.cart:\n",
    "            self.cart[product] += quantity\n",
    "        else:\n",
    "            self.cart[product] = quantity\n",
    "        product.update_quantity(-quantity)\n",
    "\n",
    "    def remove_from_cart(self, product, quantity):\n",
    "        if product in self.cart:\n",
    "            if self.cart[product] > quantity:\n",
    "                self.cart[product] -= quantity\n",
    "                product.update_quantity(quantity)\n",
    "            else:\n",
    "                product.update_quantity(self.cart[product])\n",
    "                del self.cart[product]\n",
    "\n",
    "    def checkout(self):\n",
    "        total_cost = 0.0\n",
    "        for product, quantity in self.cart.items():\n",
    "            total_cost += product.price * quantity\n",
    "        return total_cost\n",
    "\n",
    "# Test Case for Question 2.b\n",
    "def test_customer():\n",
    "    p1 = Product(\"Apple\", 1.0, 100)\n",
    "    p2 = Product(\"Banana\", 0.5, 50)\n",
    "    p3 = Product(\"Orange\", 0.75, 75)\n",
    "\n",
    "    c1 = Customer(\"John\")\n",
    "\n",
    "    c1.add_to_cart(p1, 10)\n",
    "    c1.add_to_cart(p2, 5)\n",
    "    c1.add_to_cart(p3, 3)\n",
    "\n",
    "    assert len(c1.cart) == 3\n",
    "    assert c1.cart[p1] == 10\n",
    "    assert c1.cart[p2] == 5\n",
    "    assert c1.cart[p3] == 3\n",
    "\n",
    "    assert p1.quantity == 90\n",
    "    assert p2.quantity == 45\n",
    "    assert p3.quantity == 72\n",
    "\n",
    "    c1.remove_from_cart(p2, 2)\n",
    "\n",
    "    assert len(c1.cart) == 3\n",
    "    assert c1.cart[p1] == 10\n",
    "    assert c1.cart[p2] == 3\n",
    "    assert c1.cart[p3] == 3\n",
    "\n",
    "    assert p2.quantity == 47\n",
    "\n",
    "    total_cost = c1.checkout()\n",
    "    assert total_cost == 10.0 + 3 * 0.5 + 3 * 0.75\n",
    "    print(f\"Total cost: {total_cost}\")\n",
    "\n",
    "    print(\"All test cases pass for Customer\")\n",
    "\n",
    "# Run the test case\n",
    "test_customer()\n",
    "\n",
    "\n",
    "\n",
    "\n"
   ]
  },
  {
   "cell_type": "markdown",
   "metadata": {
    "id": "5eg1fRaogr-c"
   },
   "source": [
    "**Question 2.c [10 pts]**:\n",
    "\n",
    "Create a class `Store` with attribute `inventory` (a list of `Product` instances). \n",
    "\n",
    "This class should have the following methods:\n",
    "- `add_product(Product)`: this should add the product to the store's inventory.\n",
    "- `remove_product(Product)`: this should remove the product from the store's inventory."
   ]
  },
  {
   "cell_type": "code",
   "execution_count": 7,
   "metadata": {
    "id": "AL80TtD1gscO"
   },
   "outputs": [
    {
     "name": "stdout",
     "output_type": "stream",
     "text": [
      "All test cases pass for Store\n"
     ]
    }
   ],
   "source": [
    "## ANSWER HERE - Question 2.c\n",
    "\n",
    "class Store:\n",
    "    def __init__(self):\n",
    "        self.inventory = []\n",
    "\n",
    "    def add_product(self, product):\n",
    "        self.inventory.append(product)\n",
    "\n",
    "    def remove_product(self, product):\n",
    "        if product in self.inventory:\n",
    "            self.inventory.remove(product)\n",
    "\n",
    "# Test Case for Question 2.c\n",
    "def test_store():\n",
    "    s = Store()\n",
    "\n",
    "    p1 = Product(\"Apple\", 1.0, 100)\n",
    "    p2 = Product(\"Banana\", 0.5, 50)\n",
    "    p3 = Product(\"Orange\", 0.75, 75)\n",
    "\n",
    "    s.add_product(p1)\n",
    "    s.add_product(p2)\n",
    "    s.add_product(p3)\n",
    "\n",
    "    assert len(s.inventory) == 3\n",
    "    assert p1 in s.inventory\n",
    "    assert p2 in s.inventory\n",
    "    assert p3 in s.inventory\n",
    "\n",
    "    s.remove_product(p2)\n",
    "\n",
    "    assert len(s.inventory) == 2\n",
    "    assert p2 not in s.inventory\n",
    "\n",
    "    print(\"All test cases pass for Store\")\n",
    "\n",
    "# Run the test case\n",
    "test_store()\n",
    "\n",
    "\n",
    "\n"
   ]
  },
  {
   "cell_type": "markdown",
   "metadata": {
    "id": "n1d3CPcY9qHB"
   },
   "source": [
    "*****"
   ]
  },
  {
   "cell_type": "markdown",
   "metadata": {
    "id": "ZCRaYgVl0hCA"
   },
   "source": [
    "### **Question 3  [40 pts]**:\n",
    "\n",
    "Assume the following class implements the STACK abstract data type (ADT) using the array ADT.\n",
    "\n",
    "```\n",
    "class aStack(iArray):\n",
    "    def __init__(self, capacity = 5):\n",
    "        self._items = iArray(capacity)\n",
    "        self._top = -1\n",
    "        self._size = 0 \n",
    "    def push(self, newItem):\n",
    "        self._top += 1\n",
    "        self._size += 1\n",
    "        self._items[self._top] = newItem\n",
    "    def pop(self):\n",
    "        oldItem = self._items[self._top]\n",
    "        self._items[self._top] = None\n",
    "        self._top -= 1\n",
    "        self._size -= 1\n",
    "        return oldItem\n",
    "    def peek(self):\n",
    "        return self._items[self._top]\n",
    "    def __len__(self):\n",
    "        return self._size\n",
    "    def __str__(self):\n",
    "        result = ' '\n",
    "        for i in range(len(self)):\n",
    "            result += str(self._items[i]) + ' '\n",
    "        return result\n",
    "```\n"
   ]
  },
  {
   "cell_type": "markdown",
   "metadata": {
    "id": "cBk6q7bE1Hnj"
   },
   "source": [
    "**Question 3.a [10 pts]**: Emulate the stack behaviour using the Python list data structure rather than the Array ADT, then list the pros and cons of this approach.\n",
    "\n"
   ]
  },
  {
   "cell_type": "code",
   "execution_count": 3,
   "metadata": {
    "id": "EgWFuENl1jt6"
   },
   "outputs": [],
   "source": [
    "## ANSWER HERE - Question 3.a\n",
    "\n",
    "\n",
    "#####To emulate the stack behavior using the Python list data structure, we use the built-in \"list\" .here is the modified version.class aStack:\n",
    "def __init__(self, capacity=5):\n",
    "        self._items = []\n",
    "        self._top = -1\n",
    "        self._size = 0\n",
    "\n",
    "def push(self, newItem):\n",
    "        self._top += 1\n",
    "        self._size += 1\n",
    "        self._items.append(newItem)\n",
    "\n",
    "def pop(self):\n",
    "        if self.is_empty():\n",
    "            raise IndexError(\"Stack is empty.\")\n",
    "        oldItem = self._items.pop()\n",
    "        self._top -= 1\n",
    "        self._size -= 1\n",
    "        return oldItem\n",
    "\n",
    "def peek(self):\n",
    "        if self.is_empty():\n",
    "            raise IndexError(\"Stack is empty.\")\n",
    "        return self._items[-1]\n",
    "\n",
    "def is_empty(self):\n",
    "        return len(self._items) == 0\n",
    "\n",
    "def __len__(self):\n",
    "        return self._size\n",
    "\n",
    "def __str__(self):\n",
    "        result = ' '\n",
    "        for i in range(len(self)):\n",
    "            result += str(self._items[i]) + ' '\n",
    "        return result\n",
    "\n"
   ]
  },
  {
   "cell_type": "code",
   "execution_count": null,
   "metadata": {},
   "outputs": [],
   "source": [
    "#####PROS of using the Python list as the underlying data structure#################\n",
    "\n",
    "\n",
    "#Simplicity: The Python list provides a simple and convenient way to implement a stack, as it already has built-in methods for adding elements to the end (push) and removing elements from the end (pop).\n",
    "#Dynamic Size: The Python list automatically adjusts its size as elements are added or removed, so there's no need to worry about resizing the stack when it becomes full or empty.\n",
    "#Efficiency: Python lists are highly optimized and offer constant-time (amortized) complexity for append and pop operations, making the stack operations efficient.\n",
    "#Versatility: Since Python lists are a part of the standard library, this implementation can be easily understood and used by other Python developers.\n",
    "    \n",
    "    \n",
    "#####CONS of using the Python list as the underlying data structure#################\n",
    "\n",
    "#Additional Methods: The Python list has additional methods beyond the basic stack operations (e.g., insert, remove, etc.), which might lead to accidental misuse if developers access these methods directly.\n",
    "#Memory Overhead: Python lists are more memory-intensive compared to custom array implementations, as they store additional information beyond just the elements.\n",
    "#Lack of Explicit Size Limit: In the original implementation, the stack had a specified capacity, which can be useful for memory management and avoiding potential memory overflow. With Python lists, you don't have a pre-defined capacity, which may lead to excessive memory usage if the stack grows unexpectedly large.\n",
    "\n",
    "##In conclusion, using the Python list data structure to emulate a stack provides a straightforward and efficient implementation. However, it comes with some trade-offs, such as increased memory usage and potential misuse of additional list methods. The choice between using the Array ADT and Python list depends on the specific requirements and constraints of the application."
   ]
  },
  {
   "cell_type": "code",
   "execution_count": null,
   "metadata": {},
   "outputs": [],
   "source": []
  },
  {
   "cell_type": "markdown",
   "metadata": {
    "id": "9DH5FsJH2Ir8"
   },
   "source": [
    "**Question 3.b [10 pts]**: Redefine the Stack class methods to push and pop two items rather than one item at a time.\n",
    "\n",
    "For example, if the stack includes numbers from one to ten:\n",
    "`[1, 2, 3, 4, 5, 6, 7, 8, 9, 10]`, then invoking the `pop()` method twice will remove the last four elements and modify the stack elements to be:\n",
    "`[1, 2, 3, 4, 5, 6]`"
   ]
  },
  {
   "cell_type": "code",
   "execution_count": 19,
   "metadata": {},
   "outputs": [
    {
     "name": "stdout",
     "output_type": "stream",
     "text": [
      "[1, 2, 3, 4, 5, 6]\n"
     ]
    }
   ],
   "source": [
    "## ANSWER HERE - Question 3.b\n",
    "\n",
    "\n",
    "class iArray:\n",
    "    def __init__(self, capacity):\n",
    "        # Placeholder initialization\n",
    "        self._items = [None] * capacity\n",
    "\n",
    "    def __getitem__(self, index):\n",
    "        return self._items[index]\n",
    "\n",
    "    def __setitem__(self, index, value):\n",
    "        self._items[index] = value\n",
    "\n",
    "class aStack(iArray):\n",
    "    def __init__(self, capacity=5):\n",
    "        super().__init__(capacity)\n",
    "        self._top = -1\n",
    "        self._size = 0\n",
    "\n",
    "    def push(self, newItem1, newItem2):\n",
    "        self._top += 2\n",
    "        self._size += 2\n",
    "        self._items[self._top - 1] = newItem1\n",
    "        self._items[self._top] = newItem2\n",
    "\n",
    "    def pop(self):\n",
    "        if self._size >= 2:\n",
    "            oldItem1 = self._items[self._top - 1]\n",
    "            oldItem2 = self._items[self._top]\n",
    "            self._top -= 2\n",
    "            self._size -= 2\n",
    "            return (oldItem1, oldItem2)\n",
    "        else:\n",
    "            return None\n",
    "\n",
    "    def __str__(self):\n",
    "        return str(self._items[:self._top + 1])\n",
    "\n",
    "# Create a stack with numbers from one to ten\n",
    "stack = aStack(10)\n",
    "for i in range(1, 11, 2):\n",
    "    stack.push(i, i + 1)\n",
    "\n",
    "# Pop two items at a time twice\n",
    "stack.pop()\n",
    "stack.pop()\n",
    "\n",
    "print(str(stack)) \n",
    "\n"
   ]
  },
  {
   "cell_type": "markdown",
   "metadata": {
    "id": "tj2Ym0bG_q3j"
   },
   "source": [
    "Question 3.c [10 pts]**: Add a new method called `getMax` that returns the greatest stack data element."
   ]
  },
  {
   "cell_type": "code",
   "execution_count": 23,
   "metadata": {
    "scrolled": false
   },
   "outputs": [
    {
     "name": "stdout",
     "output_type": "stream",
     "text": [
      "[1, 2, 3, 4, 5, 6, 7, 8, 9, 10]\n",
      "10\n"
     ]
    }
   ],
   "source": [
    "## ANSWER HERE - Question 3.c\n",
    "\n",
    "\n",
    "class iArray:\n",
    "    def __init__(self, capacity):\n",
    "        # Placeholder initialization\n",
    "        self._items = [None] * capacity\n",
    "\n",
    "    def __getitem__(self, index):\n",
    "        return self._items[index]\n",
    "\n",
    "    def __setitem__(self, index, value):\n",
    "        self._items[index] = value\n",
    "\n",
    "class aStack(iArray):\n",
    "    def __init__(self, capacity=5):\n",
    "        super().__init__(capacity)\n",
    "        self._top = -1\n",
    "        self._size = 0\n",
    "\n",
    "    def push(self, newItem1, newItem2):\n",
    "        self._top += 2\n",
    "        self._size += 2\n",
    "        self._items[self._top - 1] = newItem1\n",
    "        self._items[self._top] = newItem2\n",
    "\n",
    "    def pop(self):\n",
    "        if self._size >= 2:\n",
    "            oldItem1 = self._items[self._top - 1]\n",
    "            oldItem2 = self._items[self._top]\n",
    "            self._top -= 2\n",
    "            self._size -= 2\n",
    "            return (oldItem1, oldItem2)\n",
    "        else:\n",
    "            return None\n",
    "\n",
    "    def getMax(self):\n",
    "        if self._size > 0:\n",
    "            max_element = self._items[0]\n",
    "            for i in range(1, self._top + 1):\n",
    "                if self._items[i] > max_element:\n",
    "                    max_element = self._items[i]\n",
    "            return max_element\n",
    "        else:\n",
    "            return None\n",
    "\n",
    "    def __str__(self):\n",
    "        return str(self._items[:self._top + 1])\n",
    "\n",
    "# Create a stack with numbers from one to ten\n",
    "stack = aStack(10)\n",
    "for i in range(1, 11, 2):\n",
    "    stack.push(i, i + 1)\n",
    "    \n",
    "print(str(stack))\n",
    "\n",
    "#returns the greatest stack data element,Output should be number 10\n",
    "\n",
    "print(stack.getMax())  \n"
   ]
  },
  {
   "cell_type": "markdown",
   "metadata": {
    "id": "xhF232Wd6Q7v"
   },
   "source": [
    "Question 3.d [10 pts]**: Design a function that returns whether an expression has an **unnecessary** parenthesis or not.  A set of parenthesis is unnecessary if multiple sets of parenthesis surround the whole expression or one of its subexpressions.\n",
    "\n",
    "\n",
    "For example, These expressions have unnecessary parenthesis:\n",
    "\n",
    "1. `(a+b)+((c+d))`\n",
    "The subexpression `c+d` is surrounded by two pairs of brackets. \n",
    "\n",
    "2. `((a+(b)))+(c+d)`\n",
    "The subexpression `a+(b)` is surrounded by two pairs of brackets.\n",
    "\n",
    "3. `(((a+b)+(c+d)))`\n",
    "Two pairs of brackets surround the whole expression. \n",
    "\n",
    "4. `((a+(((b)))))+(c+d)`\n",
    "Each of the two subexpressions `(b)` and `a+(b)` is surrounded by two pairs of brackets.\n",
    "\n",
    "However, these expressions do not have any unnecessary parenthesis. \n",
    "\n",
    "\n",
    "1. (a+b)+(c+d)\n",
    "2. a+(b+c+d)\n",
    "\n",
    "Note: Please do not use a third-party library for any part of the code, as only Python built-in functions are permitted in this question. "
   ]
  },
  {
   "cell_type": "code",
   "execution_count": 50,
   "metadata": {},
   "outputs": [
    {
     "name": "stdout",
     "output_type": "stream",
     "text": [
      "Expressions WITH unnecessary parenthesis:\n",
      "(a+b)+((c+d)): True\n",
      "((a+(b)))+(c+d): True\n",
      "(((a+b)+(c+d))): True\n",
      "((a+(((b)))))+(c+d): True\n",
      "\n",
      "Expressions WITHOUT unnecessary parenthesis:\n",
      "(a+b)+(c+d): True\n",
      "a+(b+c+d): True\n"
     ]
    }
   ],
   "source": [
    "# We define a function called has_unnecessary_parenthesis that takes an expression as input.\n",
    "def has_unnecessary_parenthesis(expression):\n",
    "    \n",
    "    # We make an empty list called stack to keep track of open parentheses.\n",
    "    stack = []\n",
    "    \n",
    "    # We then iterate through each character in the expression one by one.\n",
    "    for char in expression:\n",
    "        \n",
    "        # If we encounter an opening parenthesis '(', we add it to the top of the stack.\n",
    "        if char == '(':\n",
    "            stack.append(char)\n",
    "            \n",
    "        # If we encounter a closing parenthesis ')', we need to check whether it matches with the last opening parenthesis in the stack.            \n",
    "        elif char == ')':\n",
    "            if stack and stack[-1] == '(':  # Check if the stack is not empty and the last element is '('.\n",
    "                \n",
    "                # If it does match, we remove both the opening and closing parenthesis from the stack, indicating that this set of parentheses is necessary.                 \n",
    "                stack.pop()\n",
    "                             \n",
    "            else:\n",
    "                # If there is no matching opening parenthesis in the stack, we add the closing parenthesis to the stack.\n",
    "                stack.append(char)\n",
    "\n",
    "    # Finally, after iterating through the whole expression, we check if there are any remaining elements in the stack.\n",
    "    # If there are, it means there are unmatched opening parentheses, which indicates unnecessary parentheses in the expression.\n",
    "    # If the stack is empty, it means all parentheses are matched, and the expression has no unnecessary parentheses.\n",
    "    return len(stack) == 0\n",
    "\n",
    "# Test cases with expressions containing unnecessary parentheses.\n",
    "expressions_with_unnecessary = [\n",
    "    \"(a+b)+((c+d))\",\n",
    "    \"((a+(b)))+(c+d)\",\n",
    "    \"(((a+b)+(c+d)))\",\n",
    "    \"((a+(((b)))))+(c+d)\"\n",
    "]\n",
    "\n",
    "# Test cases with expressions without unnecessary parentheses.\n",
    "expressions_without_unnecessary = [\n",
    "    \"(a+b)+(c+d)\",\n",
    "    \"a+(b+c+d)\"\n",
    "]\n",
    "\n",
    "# Check and print the results for expressions with unnecessary parentheses.\n",
    "print(\"Expressions WITH unnecessary parenthesis:\")\n",
    "for expr in expressions_with_unnecessary:\n",
    "    print(f\"{expr}: {has_unnecessary_parenthesis(expr)}\")\n",
    "\n",
    "# Check and print the results for expressions without unnecessary parentheses.\n",
    "print(\"\\nExpressions WITHOUT unnecessary parenthesis:\")\n",
    "for expr in expressions_without_unnecessary:\n",
    "    print(f\"{expr}: {has_unnecessary_parenthesis(expr)}\")\n"
   ]
  },
  {
   "cell_type": "code",
   "execution_count": null,
   "metadata": {},
   "outputs": [],
   "source": []
  },
  {
   "cell_type": "code",
   "execution_count": null,
   "metadata": {},
   "outputs": [],
   "source": []
  },
  {
   "cell_type": "markdown",
   "metadata": {
    "id": "lVMO52pJwk6W"
   },
   "source": [
    "#### This is the end of assignment 2"
   ]
  }
 ],
 "metadata": {
  "colab": {
   "collapsed_sections": [
    "5MUOVmchP8WV",
    "ZCRaYgVl0hCA"
   ],
   "provenance": []
  },
  "kernelspec": {
   "display_name": "Python 3 (ipykernel)",
   "language": "python",
   "name": "python3"
  },
  "language_info": {
   "codemirror_mode": {
    "name": "ipython",
    "version": 3
   },
   "file_extension": ".py",
   "mimetype": "text/x-python",
   "name": "python",
   "nbconvert_exporter": "python",
   "pygments_lexer": "ipython3",
   "version": "3.10.9"
  },
  "nteract": {
   "version": "0.28.0"
  },
  "varInspector": {
   "cols": {
    "lenName": 16,
    "lenType": 16,
    "lenVar": 40
   },
   "kernels_config": {
    "python": {
     "delete_cmd_postfix": "",
     "delete_cmd_prefix": "del ",
     "library": "var_list.py",
     "varRefreshCmd": "print(var_dic_list())"
    },
    "r": {
     "delete_cmd_postfix": ") ",
     "delete_cmd_prefix": "rm(",
     "library": "var_list.r",
     "varRefreshCmd": "cat(var_dic_list()) "
    }
   },
   "types_to_exclude": [
    "module",
    "function",
    "builtin_function_or_method",
    "instance",
    "_Feature"
   ],
   "window_display": false
  }
 },
 "nbformat": 4,
 "nbformat_minor": 1
}
